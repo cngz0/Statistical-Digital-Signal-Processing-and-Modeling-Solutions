{
 "cells": [
  {
   "cell_type": "markdown",
   "id": "a0bfcc52",
   "metadata": {},
   "source": [
    "# Problem 2.1\n",
    "## (a)"
   ]
  },
  {
   "cell_type": "markdown",
   "id": "07ca187d",
   "metadata": {},
   "source": [
    "Discrete Fourier Transform (DFT) is formulized in Eq. (2.18) as \n",
    "\n",
    "\\begin{equation}\n",
    "    X\\big(k\\big) = \\sum_{n=0}^{N-1}x(n)e^{-\\frac{j2\\pi kn}{N}}\n",
    "\\end{equation}\n",
    "\n",
    "We are asked to convert the above function to\n",
    "\n",
    "\\begin{equation}\n",
    "    X\\big(k\\big) = W\\big(k, n\\big)x\\big(n\\big)\n",
    "\\end{equation}\n",
    "\n",
    "which represents DFT in matrix form. Then, we can express the DFT vector as follows\n",
    "\n",
    "\\begin{equation}\n",
    "    X\\big(k\\big) = \n",
    "    \\begin{bmatrix}\n",
    "        \\vdots & \\vdots & \\vdots & \\vdots & \\vdots \\\\\n",
    "        1 & e^{\\frac{j2\\pi}{N}} & e^{\\frac{j4\\pi}{N}} & \\cdots & e^{\\frac{j2\\pi (N-1)}{N}} \\\\\n",
    "        1 & 1 & 1 & \\cdots & 1 \\\\\n",
    "        1 & e^{-\\frac{j2\\pi}{N}} & e^{-\\frac{j4\\pi}{N}} & \\cdots & e^{-\\frac{j2\\pi (N-1)}{N}} \\\\\n",
    "        \\vdots & \\vdots & \\vdots & \\vdots & \\vdots \\\\\n",
    "        1 & e^{-\\frac{j2\\pi k}{N}} & e^{-\\frac{j4\\pi k}{N}} & \\cdots & e^{-\\frac{j2\\pi k(N-1)}{N}} \\\\\n",
    "        \\vdots & \\vdots & \\vdots & \\vdots & \\vdots\n",
    "    \\end{bmatrix}_{\\big(\\alpha \\times N\\big)}\\begin{bmatrix}\n",
    "                                                 x(0) \\\\\n",
    "                                                 x(1) \\\\\n",
    "                                                 x(2) \\\\\n",
    "                                                 \\vdots \\\\\n",
    "                                                 x(N-1) \\\\\n",
    "                                              \\end{bmatrix}_{\\big(N \\times 1\\big)}\n",
    "\\end{equation}\n",
    "\n",
    "where $\\alpha$ is how many entry of $k$ you have. Let us check if the $W$ matrix we assigned is true or not using the below snippet."
   ]
  },
  {
   "cell_type": "code",
   "execution_count": 1,
   "id": "30b2b088",
   "metadata": {},
   "outputs": [],
   "source": [
    "import numpy as np\n",
    "import matplotlib.pyplot as plt\n",
    "\n",
    "%matplotlib inline"
   ]
  },
  {
   "cell_type": "code",
   "execution_count": 2,
   "id": "0becad45",
   "metadata": {},
   "outputs": [],
   "source": [
    "# Random x(n) vector whose length is N\n",
    "N = 10\n",
    "x = np.random.uniform(low = -1, high = 1, size = (N,))\n",
    "\n",
    "# W matrix if length of k equals to length of x\n",
    "W = np.zeros((N, N), dtype = 'complex_')\n",
    "for k in range(0, N) :\n",
    "    for n in range(0, N) :\n",
    "        W[k, n] = np.exp((-(1j * 2 * np.pi * k * n) / N), dtype = \"complex_\")"
   ]
  },
  {
   "cell_type": "code",
   "execution_count": 3,
   "id": "938e4e79",
   "metadata": {},
   "outputs": [],
   "source": [
    "# Numpy FFT and our DFT for comparison purpose\n",
    "npFFT = np.fft.fft(x)\n",
    "ourDFT = W @ x"
   ]
  },
  {
   "cell_type": "code",
   "execution_count": 4,
   "id": "bc1f4e0e",
   "metadata": {},
   "outputs": [
    {
     "name": "stderr",
     "output_type": "stream",
     "text": [
      "C:\\Users\\cengi\\AppData\\Local\\Programs\\Python\\Python310\\lib\\site-packages\\numpy\\ma\\core.py:3377: ComplexWarning: Casting complex values to real discards the imaginary part\n",
      "  _data[indx] = dval\n",
      "C:\\Users\\cengi\\AppData\\Local\\Programs\\Python\\Python310\\lib\\site-packages\\matplotlib\\cbook\\__init__.py:1298: ComplexWarning: Casting complex values to real discards the imaginary part\n",
      "  return np.asarray(x, float)\n"
     ]
    },
    {
     "data": {
      "image/png": "[encoded data removed]",
      "text/plain": [
       "<Figure size 640x480 with 2 Axes>"
      ]
     },
     "metadata": {},
     "output_type": "display_data"
    }
   ],
   "source": [
    "# Draw both of them\n",
    "plt.figure(1)\n",
    "plt.subplot(121)\n",
    "plt.stem(np.arange(N), npFFT)\n",
    "plt.title(\"Numpy FFT\")\n",
    "plt.xlabel(\"k\")\n",
    "plt.ylabel(\"|P(k)|\")\n",
    "plt.grid(visible = True)\n",
    "plt.subplot(122)\n",
    "plt.stem(np.arange(N), ourDFT)\n",
    "plt.title(\"Our DFT\")\n",
    "plt.xlabel(\"k\")\n",
    "plt.grid(visible = True)"
   ]
  },
  {
   "cell_type": "markdown",
   "id": "3598ee9c",
   "metadata": {},
   "source": [
    "## (b)"
   ]
  },
  {
   "cell_type": "markdown",
   "id": "8f1a7b17",
   "metadata": {},
   "source": [
    "If $A$ is a square matrix of full rank, then there exists a unique matrix $A^{-1}$, called the inverse of $A$. <br>\n",
    "(page 28)"
   ]
  },
  {
   "cell_type": "code",
   "execution_count": 5,
   "id": "61ca4022",
   "metadata": {
    "scrolled": true
   },
   "outputs": [
    {
     "name": "stdout",
     "output_type": "stream",
     "text": [
      "Rank of W               : 10\n",
      "Row Number of W         : 10\n",
      "Column Number of W      : 10\n",
      "Is it symmetric?        : True\n",
      "Is it Hermitian matrix? : False\n"
     ]
    }
   ],
   "source": [
    "print(\"Rank of W               : \" + str(np.linalg.matrix_rank(W)))\n",
    "print(\"Row Number of W         : \" + str(W.shape[0]))\n",
    "print(\"Column Number of W      : \" + str(W.shape[1]))\n",
    "print(\"Is it symmetric?        : \" + str(np.allclose(W, W.T, rtol = 1e-04, atol = 1e-08)))\n",
    "print(\"Is it Hermitian matrix? : \" + str(np.allclose(W, W.conj().T, rtol = 1e-04, atol = 1e-08)))"
   ]
  },
  {
   "cell_type": "markdown",
   "id": "b6691610",
   "metadata": {},
   "source": [
    "1. $W$ is a square matrix.\n",
    "2. Rank of $W$ is equal to its row number as well as its column number. That's why, $W$ is said to be of full-rank.\n",
    "3. $W$ has linearly independent rows and columns because of above property.\n",
    "4. It is also invertible.\n",
    "5. $W$ is symmetric matrix because of $W = W^T$."
   ]
  },
  {
   "cell_type": "markdown",
   "id": "682b89b7",
   "metadata": {},
   "source": [
    "## (c)"
   ]
  },
  {
   "cell_type": "markdown",
   "id": "e874f6d9",
   "metadata": {},
   "source": [
    "We can state square linearly independent any matrix as\n",
    "\n",
    "\\begin{equation}\n",
    "    A = V\\wedge V^{-1}\n",
    "\\end{equation}\n",
    "\n",
    "where V contains eigenvectors of $A$ in each columns and $\\wedge$ contains eigenvalues of $A$ on diagonal. The inverse of this representation can be given as\n",
    "\n",
    "\\begin{equation}\n",
    "    A = (V^T)^{-1}\\wedge^{-1}V^{-1}\n",
    "\\end{equation}\n",
    "\n",
    "as specified in page 45."
   ]
  },
  {
   "cell_type": "code",
   "execution_count": 6,
   "id": "9af0a32d",
   "metadata": {},
   "outputs": [],
   "source": [
    "# Find eigenvalues and eigenvectors\n",
    "eigVal, eigVec = np.linalg.eig(W)"
   ]
  },
  {
   "cell_type": "code",
   "execution_count": 7,
   "id": "9ed4c3d2",
   "metadata": {},
   "outputs": [
    {
     "name": "stdout",
     "output_type": "stream",
     "text": [
      "Is the representation true? : True\n"
     ]
    }
   ],
   "source": [
    "# Resresent W as eigenvalue decomposition (A)\n",
    "A = eigVec @ np.diag(eigVal) @ np.linalg.inv(eigVec)\n",
    "    \n",
    "# Is representation true?\n",
    "print(\"Is the representation true? : \" + str(np.allclose(W, A, rtol = 1e-05, atol = 1e-08)))"
   ]
  },
  {
   "cell_type": "code",
   "execution_count": 8,
   "id": "fd55bd6f",
   "metadata": {},
   "outputs": [
    {
     "name": "stdout",
     "output_type": "stream",
     "text": [
      "Are inverse results true? : True\n"
     ]
    }
   ],
   "source": [
    "# Inverse W\n",
    "invW = np.linalg.inv(eigVec.T) @ np.linalg.inv(np.diag(eigVal)) @ eigVec.T\n",
    "\n",
    "# Inverse W using numpy built in function for comparison purpose\n",
    "print(\"Are inverse results true? : \" + str(np.allclose(np.linalg.inv(W), invW, rtol = 1e-04, atol = 1e-08)))"
   ]
  }
 ],
 "metadata": {
  "kernelspec": {
   "display_name": "Python 3 (ipykernel)",
   "language": "python",
   "name": "python3"
  },
  "language_info": {
   "codemirror_mode": {
    "name": "ipython",
    "version": 3
   },
   "file_extension": ".py",
   "mimetype": "text/x-python",
   "name": "python",
   "nbconvert_exporter": "python",
   "pygments_lexer": "ipython3",
   "version": "3.10.6"
  }
 },
 "nbformat": 4,
 "nbformat_minor": 5
}
