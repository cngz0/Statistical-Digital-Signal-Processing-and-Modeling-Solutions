{
 "cells": [
  {
   "cell_type": "markdown",
   "id": "59f6b1f0",
   "metadata": {},
   "source": [
    "# Problem 2.2\n",
    "## (a)"
   ]
  },
  {
   "cell_type": "markdown",
   "id": "923db999",
   "metadata": {},
   "source": [
    "We have a matrix in upper triangular form as\n",
    "\n",
    "\\begin{equation}\n",
    "    U_1 = \n",
    "    \\begin{bmatrix}\n",
    "        a_{(1, 1)} & a_{(1, 2)} & a_{(1, 3)} \\\\\n",
    "        0 & a_{(2, 2)} & a_{(2, 3)} \\\\\n",
    "        0 & 0 & a_{(3, 3)}\n",
    "    \\end{bmatrix}\n",
    "\\end{equation}\n",
    "\n",
    "and another upper triangular matrix as\n",
    "\n",
    "\\begin{equation}\n",
    "    U_2 = \n",
    "    \\begin{bmatrix}\n",
    "        b_{(1, 1)} & b_{(1, 2)} & b_{(1, 3)} \\\\\n",
    "        0 & b_{(2, 2)} & b_{(2, 3)} \\\\\n",
    "        0 & 0 & b_{(3, 3)}\n",
    "    \\end{bmatrix}\n",
    "\\end{equation}\n",
    "\n",
    "Let us multiply these two matrices, $U_3 = U_1U_2$.\n",
    "\n",
    "\\begin{equation}\n",
    "    U_3 = \n",
    "    \\begin{bmatrix}\n",
    "        a_{(1, 1)}b_{(1, 1)} & a_{(1, 1)}b_{(1, 2)} + a_{(1, 2)}b_{(2, 2)} & a_{(1, 1)}b_{(1, 3)} + a_{(1, 2)}b_{(2, 3)} + a_{(1, 3)}b_{(3, 3)} \\\\\n",
    "        0 & a_{(2, 2)}b_{(2, 2)} & a_{(2, 2)}b_{(2, 3)} + a_{(2, 3)}b_{(3, 3)} \\\\\n",
    "        0 & 0 & a_{(3, 3)}b_{(3, 3)}\n",
    "    \\end{bmatrix}\n",
    "\\end{equation}\n",
    "\n",
    "We have upper triangular form matrix, $U_3$, again."
   ]
  },
  {
   "cell_type": "code",
   "execution_count": 18,
   "id": "35ade5c5",
   "metadata": {},
   "outputs": [],
   "source": [
    "import numpy as np\n",
    "from scipy.linalg import toeplitz"
   ]
  },
  {
   "cell_type": "code",
   "execution_count": 19,
   "id": "497576da",
   "metadata": {},
   "outputs": [],
   "source": [
    "# Create two upper triangular matrices in dimension of 'dim'\n",
    "dim = 5\n",
    "U1 = np.triu(np.random.random((dim, dim)))\n",
    "U2 = np.triu(np.random.random((dim, dim)))"
   ]
  },
  {
   "cell_type": "code",
   "execution_count": 20,
   "id": "ca13c171",
   "metadata": {},
   "outputs": [
    {
     "name": "stdout",
     "output_type": "stream",
     "text": [
      "[[0.04807721 0.44277041 0.03827585 0.83333373 1.20755523]\n",
      " [0.         0.50380535 0.14957325 0.92248551 1.52998491]\n",
      " [0.         0.         0.39585288 0.49694126 0.87546616]\n",
      " [0.         0.         0.         0.49685189 0.38616361]\n",
      " [0.         0.         0.         0.         0.25597905]]\n"
     ]
    }
   ],
   "source": [
    "# Multiply these two matrices\n",
    "U3 = U1 @ U2\n",
    "\n",
    "print(U3)"
   ]
  },
  {
   "cell_type": "markdown",
   "id": "9655281d",
   "metadata": {},
   "source": [
    "## (b)"
   ]
  },
  {
   "cell_type": "markdown",
   "id": "41c3e028",
   "metadata": {},
   "source": [
    "We have a matrix in Toeplitz form as\n",
    "\n",
    "\\begin{equation}\n",
    "    T_1 = \n",
    "    \\begin{bmatrix}\n",
    "        a_{(1, 1)} & a_{(1, 2)} & a_{(1, 3)} \\\\\n",
    "        a_{(2, 1)} & a_{(1, 1)} & a_{(2, 3)} \\\\\n",
    "        a_{(3, 1)} & a_{(2, 1)} & a_{(1, 1)}\n",
    "    \\end{bmatrix}\n",
    "\\end{equation}\n",
    "\n",
    "and another Toeplitz matrix as\n",
    "\n",
    "\\begin{equation}\n",
    "    T_2 = \n",
    "    \\begin{bmatrix}\n",
    "        b_{(1, 1)} & b_{(1, 2)} & b_{(1, 3)} \\\\\n",
    "        b_{(2, 1)} & b_{(1, 1)} & b_{(2, 3)} \\\\\n",
    "        b_{(3, 1)} & b_{(2, 1)} & b_{(1, 1)}\n",
    "    \\end{bmatrix}\n",
    "\\end{equation}\n",
    "\n",
    "Let us multiply these two matrices, $T_3 = T_1T_2$.\n",
    "\n",
    "\\begin{equation}\n",
    "    T_3 = \n",
    "    \\begin{bmatrix}\n",
    "        a_{(1, 1)}b_{(1, 1)} + a_{(1, 2)}b_{(2, 1)} + a_{(1, 3)}b_{(3, 1)} & a_{(1, 1)}b_{(1, 2)}+ a_{(1, 2)}b_{(1, 1)} + a_{(1, 3)}b_{(2, 1)}& a_{(1, 1)}b_{(1, 3)} + a_{(1, 3)}b_{(1, 1)} + a_{(1, 2)}b_{(2, 3)} \\\\\n",
    "        a_{(1, 1)}b_{(2, 1)} + a_{(2, 1)}b_{(1, 1)} + a_{(2, 3)}b_{(3, 1)}& a_{(1, 1)}b_{(1, 1)} + a_{(2, 1)}b_{(1, 2)} + a_{(2, 3)}b_{(2, 1)}& a_{(1, 1)}b_{(2, 3)} + a_{(2, 1)}b_{(1, 3)} + a_{(2, 3)}b_{(1, 1)} \\\\\n",
    "        a_{(1, 1)}b_{(3, 1)} + a_{(2, 1)}b_{(2, 1)} + a_{(3, 1)}b_{(1, 1)}& a_{(1, 1)}b_{(2, 1)} + a_{(2, 1)}b_{(1, 1)} + a_{(3, 1)}b_{(1, 2)}& a_{(1, 1)}b_{(1, 1)} + a_{(2, 1)}b_{(2, 3)} + a_{(3, 1)}b_{(1, 3)}\n",
    "    \\end{bmatrix}\n",
    "\\end{equation}\n",
    "\n",
    "It is sufficient to look at diagonal part of $T_3$. One of the properties which Toeplitz matrix requires that all diagonal elements are equal. However, we do not have equal diagonal elements. <ins>$T_3$ is not Toeplitz matrix</ins>."
   ]
  },
  {
   "cell_type": "code",
   "execution_count": 22,
   "id": "02112672",
   "metadata": {},
   "outputs": [],
   "source": [
    "# Create two Toeplitz matrices in dimension of 'dim'\n",
    "dim = 5\n",
    "T1 = toeplitz(np.random.random((dim, 1)), np.random.random((dim, 1)))\n",
    "T2 = toeplitz(np.random.random((dim, 1)), np.random.random((dim, 1)))"
   ]
  },
  {
   "cell_type": "code",
   "execution_count": 23,
   "id": "00c443e9",
   "metadata": {},
   "outputs": [
    {
     "name": "stdout",
     "output_type": "stream",
     "text": [
      "[[0.98945474 1.64552748 1.78939969 1.66348159 2.51886674]\n",
      " [0.95027427 1.59868823 2.14205783 1.83136139 2.37658495]\n",
      " [1.05174302 1.57581474 2.10781311 2.18160238 2.56525616]\n",
      " [1.04604927 1.62400025 2.06410173 2.25862227 2.79780256]\n",
      " [1.09685276 1.58934413 2.07283461 2.13227777 2.87973971]]\n"
     ]
    }
   ],
   "source": [
    "# Multiply these two matrices\n",
    "T3 = T1 @ T2\n",
    "\n",
    "print(T3)"
   ]
  },
  {
   "cell_type": "markdown",
   "id": "7b95b2bb",
   "metadata": {},
   "source": [
    "## (c)"
   ]
  },
  {
   "cell_type": "markdown",
   "id": "2c822305",
   "metadata": {},
   "source": [
    "We have a matrix in centrosymmetric form as\n",
    "\n",
    "\\begin{equation}\n",
    "    C_1 = \n",
    "    \\begin{bmatrix}\n",
    "        a_{(1, 1)} & a_{(1, 2)} & a_{(1, 3)} \\\\\n",
    "        a_{(2, 1)} & a_{(2, 2)} & a_{(1, 2)} \\\\\n",
    "        a_{(1, 3)} & a_{(2, 1)} & a_{(1, 1)}\n",
    "    \\end{bmatrix}\n",
    "\\end{equation}\n",
    "\n",
    "and another centrosymmetric matrix as\n",
    "\n",
    "\\begin{equation}\n",
    "    C_2 = \n",
    "    \\begin{bmatrix}\n",
    "        b_{(1, 1)} & b_{(1, 2)} & b_{(1, 3)} \\\\\n",
    "        b_{(2, 1)} & b_{(2, 2)} & b_{(1, 2)} \\\\\n",
    "        b_{(1, 3)} & b_{(2, 1)} & b_{(1, 1)}\n",
    "    \\end{bmatrix}\n",
    "\\end{equation}\n",
    "\n",
    "Let us multiply these two matrices, $C_3=C_1C_2$.\n",
    "\n",
    "\\begin{equation}\n",
    "    C_2 = \n",
    "    \\begin{bmatrix}\n",
    "        a_{(1, 1)}b_{(1, 1)} + a_{(1, 2)}b_{(2, 1)} + a_{(1, 3)}b_{(3, 1)}& a_{(1, 1)}b_{(1, 2)} + a_{(1, 2)}b_{(1, 1)} + a_{(1, 3)}b_{(2, 1)}& a_{(1, 1)}b_{(1 ,3)} + a_{(1, 2)}b_{(1, 2)} + a_{1, 3)}b_{1, 1)} \\\\\n",
    "        a_{2, 1)}b_{1, 1)} + a_{1, 2)}b_{3, 1)} + a_{2, 2)}b_{2, 1)}& a_{1, 2)}b_{2, 1)} + a_{2, 1)}b_{1, 2)} + a_{2, 2)}b_{1 , 1)}& a_{1, 2)}b_{1, 1)} + a_{2, 1)}b_{1, 3)} + a_{2, 2)}b_{1, 2)} \\\\\n",
    "        a_{1, 1)}b_{3, 1)} + a_{2, 1)}b_{2, 1)} + a_{3, 1)}b_{1, 1)}& a_{1, 1)}b_{2, 1)} + a_{2, 1)}b_{1, 1)} + a_{3, 1)}b_{1, 2)}& a_{1, 1)}b_{1, 1)} + a_{2, 1)}b_{1, 2)} + a_{3, 1)}b_{1, 3)}\n",
    "    \\end{bmatrix}\n",
    "\\end{equation}\n",
    "\n",
    "It is sufficient to check if $C_3$ is symmetric according to cross diagonal. We do not have symmetric $C_3$ matrix which is symmetric around the cross diagonal. <ins>$C_3$ is not centrosymmetric matrix</ins>."
   ]
  },
  {
   "cell_type": "code",
   "execution_count": 30,
   "id": "5fcbab3f",
   "metadata": {},
   "outputs": [],
   "source": [
    "# Create two centrosymmetric matrices in dimension of 'dim'\n",
    "dim = 5\n",
    "C1 = np.array(([1, 2, 3], [4, 5, 2], [3, 4, 1]))\n",
    "C2 = np.array(([6, 7, 8], [9, 10, 7], [8, 9, 6]))"
   ]
  },
  {
   "cell_type": "code",
   "execution_count": 31,
   "id": "568c71a4",
   "metadata": {},
   "outputs": [
    {
     "name": "stdout",
     "output_type": "stream",
     "text": [
      "[[48 54 40]\n",
      " [85 96 79]\n",
      " [62 70 58]]\n"
     ]
    }
   ],
   "source": [
    "# Multiply these two matrices\n",
    "C3 = C1 @ C2\n",
    "\n",
    "print(C3)"
   ]
  }
 ],
 "metadata": {
  "kernelspec": {
   "display_name": "Python 3 (ipykernel)",
   "language": "python",
   "name": "python3"
  },
  "language_info": {
   "codemirror_mode": {
    "name": "ipython",
    "version": 3
   },
   "file_extension": ".py",
   "mimetype": "text/x-python",
   "name": "python",
   "nbconvert_exporter": "python",
   "pygments_lexer": "ipython3",
   "version": "3.10.6"
  }
 },
 "nbformat": 4,
 "nbformat_minor": 5
}
