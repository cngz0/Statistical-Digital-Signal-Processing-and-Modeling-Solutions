{
 "cells": [
  {
   "cell_type": "markdown",
   "id": "b04948e5",
   "metadata": {},
   "source": [
    "# Problem 2.3"
   ]
  },
  {
   "cell_type": "markdown",
   "id": "bab117cd",
   "metadata": {},
   "source": [
    "According to Eq. (2.34), minimum norm solution can be given as\n",
    "\n",
    "\\begin{equation}\n",
    "    x_0 = A^H\\big(AA^H\\big)^{-1}b\n",
    "\\end{equation}\n",
    "\n",
    "We have\n",
    "\n",
    "\\begin{equation}\n",
    "    A = \n",
    "    \\begin{bmatrix}\n",
    "         1 & 0 & 2 & -1 \\\\\n",
    "        -1 & 1 & 0 &  1\n",
    "    \\end{bmatrix}, \\;     b = \n",
    "                            \\begin{bmatrix}\n",
    "                                 1  \\\\\n",
    "                                 1\n",
    "                            \\end{bmatrix}\n",
    "\\end{equation}\n",
    "\n",
    "Then, the minimum norm solution under underdetermined condition is"
   ]
  },
  {
   "cell_type": "code",
   "execution_count": 1,
   "id": "fb65ee9b",
   "metadata": {},
   "outputs": [],
   "source": [
    "import numpy as np"
   ]
  },
  {
   "cell_type": "code",
   "execution_count": 8,
   "id": "3aa20e76",
   "metadata": {},
   "outputs": [],
   "source": [
    "# Set related matrices\n",
    "A = np.array(([1, 0, 2, -1], [-1, 1, 0, 1]))\n",
    "b = np.array([1, 1]).reshape((2, 1))"
   ]
  },
  {
   "cell_type": "code",
   "execution_count": 16,
   "id": "56e18038",
   "metadata": {},
   "outputs": [
    {
     "name": "stdout",
     "output_type": "stream",
     "text": [
      "[[-0.21428571]\n",
      " [ 0.57142857]\n",
      " [ 0.71428571]\n",
      " [ 0.21428571]]\n"
     ]
    }
   ],
   "source": [
    "# Minimum norm solution\n",
    "x0 = A.T @ np.linalg.inv(A @ A.T) @ b\n",
    "\n",
    "print(x0)"
   ]
  },
  {
   "cell_type": "markdown",
   "id": "3e141cef",
   "metadata": {},
   "source": [
    "$L_2$ norm can be found as follows in the light of Eq. (2.23)\n",
    "\n",
    "\\begin{equation}\n",
    "    ||x_0||_2 = \\sqrt{\\sum_{i = 1}^N|x_i|^2}\n",
    "\\end{equation}"
   ]
  },
  {
   "cell_type": "code",
   "execution_count": 18,
   "id": "1c98dabc",
   "metadata": {},
   "outputs": [
    {
     "name": "stdout",
     "output_type": "stream",
     "text": [
      "0.9636241116594314\n"
     ]
    }
   ],
   "source": [
    "# Norm of x0\n",
    "print(np.linalg.norm(x0))"
   ]
  }
 ],
 "metadata": {
  "kernelspec": {
   "display_name": "Python 3 (ipykernel)",
   "language": "python",
   "name": "python3"
  },
  "language_info": {
   "codemirror_mode": {
    "name": "ipython",
    "version": 3
   },
   "file_extension": ".py",
   "mimetype": "text/x-python",
   "name": "python",
   "nbconvert_exporter": "python",
   "pygments_lexer": "ipython3",
   "version": "3.10.6"
  }
 },
 "nbformat": 4,
 "nbformat_minor": 5
}
