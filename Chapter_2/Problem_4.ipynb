{
 "cells": [
  {
   "cell_type": "markdown",
   "id": "4ffa4285",
   "metadata": {},
   "source": [
    "# Problem 2.4\n",
    "## (a)"
   ]
  },
  {
   "cell_type": "markdown",
   "id": "0893d460",
   "metadata": {},
   "source": [
    "According to Eq. (2.39), least squares solution is\n",
    "\n",
    "\\begin{equation}\n",
    "    x_0 = \\big(A^HA\\big)^{-1}A^Hb\n",
    "\\end{equation}\n",
    "\n",
    "We have \n",
    "\n",
    "\\begin{equation}\n",
    "    A = \n",
    "    \\begin{bmatrix}\n",
    "        1 & 0 \\\\\n",
    "        0 & 1 \\\\\n",
    "        1 & 1\n",
    "    \\end{bmatrix}, \\; b = \n",
    "                          \\begin{bmatrix}\n",
    "                               1 \\\\\n",
    "                               1 \\\\\n",
    "                               0\n",
    "                          \\end{bmatrix}\n",
    "\\end{equation}\n",
    "\n",
    "Then, least squares solution is as follows"
   ]
  },
  {
   "cell_type": "code",
   "execution_count": 9,
   "id": "fe50c50a",
   "metadata": {},
   "outputs": [],
   "source": [
    "import numpy as np"
   ]
  },
  {
   "cell_type": "code",
   "execution_count": 10,
   "id": "4346ab1d",
   "metadata": {},
   "outputs": [],
   "source": [
    "# Set the matrices\n",
    "A = np.array(([1, 0], [0, 1], [1, 1]))\n",
    "b = np.array([1, 1, 0]).reshape((3, 1))"
   ]
  },
  {
   "cell_type": "code",
   "execution_count": 11,
   "id": "8ef97f22",
   "metadata": {},
   "outputs": [
    {
     "name": "stdout",
     "output_type": "stream",
     "text": [
      "[[0.33333333]\n",
      " [0.33333333]]\n"
     ]
    }
   ],
   "source": [
    "LSS = np.linalg.inv(A.T @ A) @ A.T @ b\n",
    "\n",
    "print(LSS)"
   ]
  },
  {
   "cell_type": "markdown",
   "id": "347d4814",
   "metadata": {},
   "source": [
    "## (b)"
   ]
  },
  {
   "cell_type": "markdown",
   "id": "da548945",
   "metadata": {},
   "source": [
    "In the light of the Eq. (2.41), projection matrix is given as \n",
    "\n",
    "\\begin{equation}\n",
    "    P_A = A\\big(A^HA\\big)^{-1}A^H\n",
    "\\end{equation}\n",
    "\n",
    "Let us find the projection matrix."
   ]
  },
  {
   "cell_type": "code",
   "execution_count": 12,
   "id": "e1055915",
   "metadata": {},
   "outputs": [
    {
     "name": "stdout",
     "output_type": "stream",
     "text": [
      "[[ 0.66666667 -0.33333333  0.33333333]\n",
      " [-0.33333333  0.66666667  0.33333333]\n",
      " [ 0.33333333  0.33333333  0.66666667]]\n"
     ]
    }
   ],
   "source": [
    "# Find Projection Matrix\n",
    "PA = A @ np.linalg.inv(A.T @ A) @ A.T\n",
    "\n",
    "print(PA)"
   ]
  },
  {
   "cell_type": "markdown",
   "id": "8ec7dc45",
   "metadata": {},
   "source": [
    "## (c)"
   ]
  },
  {
   "cell_type": "markdown",
   "id": "c6c1b953",
   "metadata": {},
   "source": [
    "Below equation is given\n",
    "\n",
    "\\begin{equation}\n",
    "    \\hat{b} = P_Ab\n",
    "\\end{equation}\n",
    "\n",
    "where $\\hat{b}$ is the best approximation."
   ]
  },
  {
   "cell_type": "code",
   "execution_count": 14,
   "id": "5972a45a",
   "metadata": {},
   "outputs": [
    {
     "name": "stdout",
     "output_type": "stream",
     "text": [
      "[[0.33333333]\n",
      " [0.33333333]\n",
      " [0.66666667]]\n"
     ]
    }
   ],
   "source": [
    "# Find the best approximation\n",
    "b_hat = PA @ b\n",
    "\n",
    "print(b_hat)"
   ]
  },
  {
   "cell_type": "markdown",
   "id": "071ef818",
   "metadata": {},
   "source": [
    "## (d)"
   ]
  },
  {
   "cell_type": "markdown",
   "id": "078b4b82",
   "metadata": {},
   "source": [
    "Let us find the new projection function as given below\n",
    "\n",
    "\\begin{equation}\n",
    "    P_A^\\perp = I - P_A\n",
    "\\end{equation}"
   ]
  },
  {
   "cell_type": "code",
   "execution_count": 17,
   "id": "4ffa0103",
   "metadata": {},
   "outputs": [],
   "source": [
    "# Find new projection function\n",
    "PA_orthogonal = np.identity(PA.shape[0]) - PA"
   ]
  },
  {
   "cell_type": "code",
   "execution_count": 21,
   "id": "778e4d1c",
   "metadata": {},
   "outputs": [
    {
     "name": "stdout",
     "output_type": "stream",
     "text": [
      "[[ 0.66666667]\n",
      " [ 0.66666667]\n",
      " [-0.66666667]]\n"
     ]
    }
   ],
   "source": [
    "# Find the best approximation for PA_orthogonal as given in (c) section\n",
    "b_orthogonal = PA_orthogonal @ b\n",
    "\n",
    "print(b_orthogonal)"
   ]
  },
  {
   "cell_type": "markdown",
   "id": "2bf76dc2",
   "metadata": {},
   "source": [
    "One who wants to check if two nonzero vectors are orthogonal or not can utilize inner product as given in Eq. (2.24)\n",
    "\n",
    "\\begin{equation}\n",
    "    <a, b> = ||a||.||b||.cos\\big(\\theta\\big)\n",
    "\\end{equation}\n",
    "\n",
    "To check inner product, we have to find it first as follows\n",
    "\n",
    "\\begin{equation}\n",
    "    <a, b> = a^Hb\n",
    "\\end{equation}\n",
    "\n",
    "If inner product is equal to $0$, two nonzero vectors are said to be orthogonal."
   ]
  },
  {
   "cell_type": "code",
   "execution_count": 24,
   "id": "e14c4b95",
   "metadata": {},
   "outputs": [],
   "source": [
    "# Find inner product\n",
    "innProd = b_hat.T @ b_orthogonal"
   ]
  },
  {
   "cell_type": "code",
   "execution_count": 30,
   "id": "6799a456",
   "metadata": {},
   "outputs": [
    {
     "name": "stdout",
     "output_type": "stream",
     "text": [
      "[[90.]]\n"
     ]
    }
   ],
   "source": [
    "# Find the THETA angle in degrees \n",
    "theta = np.rad2deg(np.arccos(innProd / (np.linalg.norm(b_hat) * np.linalg.norm(b_orthogonal))))\n",
    "\n",
    "print(theta)"
   ]
  },
  {
   "cell_type": "markdown",
   "id": "fb4a71da",
   "metadata": {},
   "source": [
    "$\\theta = 90$, then these two nonzero vectors are orthogonal. \n",
    "\n",
    "$P_A^\\perp$, which is perpendicular to $P_A$, represents the rotation matrix to rotate $b$ through $b^\\perp$."
   ]
  }
 ],
 "metadata": {
  "kernelspec": {
   "display_name": "Python 3 (ipykernel)",
   "language": "python",
   "name": "python3"
  },
  "language_info": {
   "codemirror_mode": {
    "name": "ipython",
    "version": 3
   },
   "file_extension": ".py",
   "mimetype": "text/x-python",
   "name": "python",
   "nbconvert_exporter": "python",
   "pygments_lexer": "ipython3",
   "version": "3.10.6"
  }
 },
 "nbformat": 4,
 "nbformat_minor": 5
}
